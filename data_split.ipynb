{
 "cells": [
  {
   "cell_type": "code",
   "execution_count": 7,
   "metadata": {},
   "outputs": [],
   "source": [
    "# Author : Daniel Parada\n",
    "\n",
    "# Import necessary packages\n",
    "import pandas as pd\n",
    "from sklearn.model_selection import train_test_split\n",
    "\n",
    "def df_split(csv_file, out_path, dep_var, test_size=0.33, shuffle=False, random_state=0):\n",
    "    \"\"\"Reads in a csv file and splits it into train/test datasets with corresponding ground truths\n",
    "       and saves them to csv files.\n",
    "       \n",
    "    Args:\n",
    "        csv_file : String ; path to csv file to split into train/test data\n",
    "        out_path : String ; output path to save csv to\n",
    "        dep_var : String ; dependent variable we are trying to stimate\n",
    "        test_size : float ; percentage of the data to be used for testing\n",
    "        shuffle : bool ; determines if the selected data should be shuffled or not\n",
    "        random_state : int ; determines how data is split, used for reproducibility\n",
    "        \n",
    "    Returns:\n",
    "        None\n",
    "    \"\"\"\n",
    "    \n",
    "    # Read in the data into a pandas DataFrame\n",
    "    dat = pd.read_csv(csv_file)\n",
    "\n",
    "    # Split the data between explanatory variables and dependent variable\n",
    "    y = dat[dep_var]\n",
    "    X = dat.drop(['Id', dep_var], axis=1)\n",
    "\n",
    "    # Split the data into train/test feature sets and corresponding ground truths\n",
    "    X_train, X_test, y_train, y_test = \\\n",
    "        train_test_split(X, y, test_size=test_size, shuffle=shuffle, random_state=random_state)\n",
    "    \n",
    "    # Save train data to csv\n",
    "    X_train.to_csv(out_path + 'df_Train.csv', header=True)\n",
    "\n",
    "    # Save train ground truth to csv\n",
    "    y_train.to_csv(out_path + 'df_TrainGt.csv', header=True)\n",
    "\n",
    "    # Save test data to csv\n",
    "    X_test.to_csv(out_path + 'df_Test.csv', header=True)\n",
    "\n",
    "    # Save test ground truth to csv\n",
    "    y_test.to_csv(out_path + 'df_TestGt.csv', header=True)\n"
   ]
  },
  {
   "cell_type": "code",
   "execution_count": null,
   "metadata": {},
   "outputs": [],
   "source": []
  }
 ],
 "metadata": {
  "kernelspec": {
   "display_name": "Python 3",
   "language": "python",
   "name": "python3"
  },
  "language_info": {
   "codemirror_mode": {
    "name": "ipython",
    "version": 3
   },
   "file_extension": ".py",
   "mimetype": "text/x-python",
   "name": "python",
   "nbconvert_exporter": "python",
   "pygments_lexer": "ipython3",
   "version": "3.6.5"
  }
 },
 "nbformat": 4,
 "nbformat_minor": 2
}
