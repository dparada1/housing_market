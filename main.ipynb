{
 "cells": [
  {
   "cell_type": "code",
   "execution_count": 4,
   "metadata": {},
   "outputs": [
    {
     "ename": "NameError",
     "evalue": "name 'df_train_model' is not defined",
     "output_type": "error",
     "traceback": [
      "\u001b[0;31m---------------------------------------------------------------------------\u001b[0m",
      "\u001b[0;31mNameError\u001b[0m                                 Traceback (most recent call last)",
      "\u001b[0;32m<ipython-input-4-dd220c8a7ce5>\u001b[0m in \u001b[0;36m<module>\u001b[0;34m()\u001b[0m\n\u001b[1;32m     25\u001b[0m \u001b[0mmodel\u001b[0m \u001b[0;34m=\u001b[0m \u001b[0mdf_train\u001b[0m\u001b[0;34m(\u001b[0m\u001b[0mpath_feat\u001b[0m\u001b[0;34m,\u001b[0m \u001b[0mpath_truth\u001b[0m\u001b[0;34m,\u001b[0m \u001b[0mfile_feat\u001b[0m\u001b[0;34m,\u001b[0m \u001b[0mfile_truth\u001b[0m\u001b[0;34m,\u001b[0m \u001b[0mEDA\u001b[0m\u001b[0;34m)\u001b[0m\u001b[0;34m\u001b[0m\u001b[0m\n\u001b[1;32m     26\u001b[0m \u001b[0;34m\u001b[0m\u001b[0m\n\u001b[0;32m---> 27\u001b[0;31m \u001b[0mtmodel\u001b[0m \u001b[0;34m=\u001b[0m \u001b[0mdf_train_model\u001b[0m\u001b[0;34m(\u001b[0m\u001b[0mmodel\u001b[0m\u001b[0;34m=\u001b[0m\u001b[0mmodel\u001b[0m\u001b[0;34m)\u001b[0m\u001b[0;34m\u001b[0m\u001b[0m\n\u001b[0m\u001b[1;32m     28\u001b[0m \u001b[0;31m# Evaluating the model :\u001b[0m\u001b[0;34m\u001b[0m\u001b[0;34m\u001b[0m\u001b[0m\n",
      "\u001b[0;31mNameError\u001b[0m: name 'df_train_model' is not defined"
     ]
    }
   ],
   "source": [
    "# Author : Daniel Parada. This is a test for a pull request.\n",
    "\n",
    "# Import required packages\n",
    "import import_ipynb\n",
    "import pandas as pd\n",
    "from EDA import df_EDA\n",
    "from train import df_train\n",
    "from data_split import df_split\n",
    "from train.df_train import df_train_model\n",
    "\n",
    "# Splitting original data into train/test and saving to csv files :\n",
    "csv_file = 'train.csv'\n",
    "out_path = '/Users/danielparada/Documents/House_pricing/'\n",
    "dep_var = 'SalePrice'\n",
    "\n",
    "df_split(csv_file=csv_file, out_path=out_path, dep_var=dep_var)\n",
    "\n",
    "# Training the model :\n",
    "path_feat = '/Users/danielparada/Documents/House_pricing/'\n",
    "path_truth = '/Users/danielparada/Documents/House_pricing/'\n",
    "file_feat = 'df_Train.csv'\n",
    "file_truth = 'df_TrainGt.csv'\n",
    "EDA = True\n",
    "\n",
    "model = df_train(path_feat, path_truth, file_feat, file_truth, EDA)\n",
    "\n",
    "tmodel = df_train_model(model=model)\n",
    "# Evaluating the model :\n"
   ]
  },
  {
   "cell_type": "code",
   "execution_count": 3,
   "metadata": {},
   "outputs": [
    {
     "data": {
      "text/plain": [
       "<train.df_train at 0x10decccf8>"
      ]
     },
     "execution_count": 3,
     "metadata": {},
     "output_type": "execute_result"
    }
   ],
   "source": []
  },
  {
   "cell_type": "code",
   "execution_count": null,
   "metadata": {},
   "outputs": [],
   "source": []
  }
 ],
 "metadata": {
  "kernelspec": {
   "display_name": "Python 3",
   "language": "python",
   "name": "python3"
  },
  "language_info": {
   "codemirror_mode": {
    "name": "ipython",
    "version": 3
   },
   "file_extension": ".py",
   "mimetype": "text/x-python",
   "name": "python",
   "nbconvert_exporter": "python",
   "pygments_lexer": "ipython3",
   "version": "3.6.5"
  }
 },
 "nbformat": 4,
 "nbformat_minor": 2
}
